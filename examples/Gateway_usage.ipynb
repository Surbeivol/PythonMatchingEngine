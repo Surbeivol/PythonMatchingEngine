{
 "cells": [
  {
   "cell_type": "markdown",
   "metadata": {},
   "source": [
    "# GATEWAY CLASS USAGE \n",
    "\n",
    "\n",
    "Instead of using directly the Orderbook class, you can use this class to simulate a real historical trading session and introduce your own orders in between while considering the latency effect of the market data and market access"
   ]
  },
  {
   "cell_type": "code",
   "execution_count": 1,
   "metadata": {},
   "outputs": [
    {
     "name": "stdout",
     "output_type": "stream",
     "text": [
      "/home/paco/dev/PythonMatchingEngine/examples\n"
     ]
    }
   ],
   "source": [
    "import os\n",
    "print(os.getcwd())"
   ]
  },
  {
   "cell_type": "code",
   "execution_count": 2,
   "metadata": {},
   "outputs": [
    {
     "name": "stdout",
     "output_type": "stream",
     "text": [
      "orderbook opened at 2019-05-23 09:00:31.127000 \n",
      "\n",
      "     vbid    pbid    pask   vask\n",
      "0   12682  4.0255  4.0265   6907\n",
      "1    6896  4.0250  4.0275   4000\n",
      "2    2500  4.0240  4.0285   6907\n",
      "3    1355  4.0230  4.0310  12992\n",
      "4   17850  4.0210  4.0340  72965\n",
      "5    7000  4.0205  4.0365  16625\n",
      "6  104505  4.0200  4.0390    999\n",
      "7     248  4.0190  4.0400  32265\n",
      "8    5000  4.0170  4.0410  13442\n",
      "9      60  4.0160  4.0450  15550\n"
     ]
    }
   ],
   "source": [
    "import timeit\n",
    "import time\n",
    "import datetime\n",
    "import numpy as np\n",
    "from marketsimulator.gateway import Gateway\n",
    "\n",
    "\n",
    "\"\"\"\n",
    " Create a new Gateway instance with Acciona historical orders.\n",
    " This creates a new orderbook and fills it with the first orders to \n",
    " reconstruct the orderbook present when the orderbook opened that day.\n",
    " \n",
    " It is like market replay of what happened that day and you can mix your own\n",
    " orders in between.\n",
    " \n",
    " The class Gateway instanciates an Orderbook object (Gateway.ob) \n",
    " and provides methods  to move the historical \n",
    " replay forward tick by tick or a number of seconds \n",
    " \n",
    " The expected total latency is configured to be 2e4microsecs==20ms \n",
    " \n",
    "\"\"\"\n",
    "gtw = Gateway(ticker='san',\n",
    "             date=datetime.date(2019,5,23),\n",
    "             start_h=9,\n",
    "             end_h=10,\n",
    "             latency=20_000)\n",
    "\n",
    "# Market orderbook right after the opening auction\n",
    "print(f'orderbook opened at {gtw.ob_time} \\n')\n",
    "# Market Orderbook is initialized so that it shows the orderbook \n",
    "# that was present right after the opening auction took place\n",
    "print(gtw.ob)\n",
    "\n"
   ]
  },
  {
   "cell_type": "code",
   "execution_count": 3,
   "metadata": {},
   "outputs": [
    {
     "name": "stdout",
     "output_type": "stream",
     "text": [
      "New orderbook time is 2019-05-23 09:01:31.127000 \n",
      "\n",
      "    vbid    pbid    pask   vask\n",
      "0   1187  4.0165  4.0200   4491\n",
      "1   2500  4.0160  4.0210   5219\n",
      "2  25000  4.0150  4.0220   2719\n",
      "3   5219  4.0135  4.0230   5219\n",
      "4    500  4.0130  4.0240   4691\n",
      "5   2719  4.0125  4.0250   5219\n",
      "6   8300  4.0120  4.0260   2666\n",
      "7   5219  4.0115  4.0265    253\n",
      "8  21189  4.0110  4.0270  12666\n",
      "9   8214  4.0105  4.0275   5491\n"
     ]
    }
   ],
   "source": [
    "# Move the orderbook 1 minute forward in time\n",
    "gtw.move_n_seconds(60)\n",
    "# Check orderbook time\n",
    "print(f'New orderbook time is {gtw.ob_time} \\n')\n",
    "# Check new orderbook\n",
    "print(gtw.ob)\n"
   ]
  },
  {
   "cell_type": "code",
   "execution_count": null,
   "metadata": {},
   "outputs": [],
   "source": []
  },
  {
   "cell_type": "markdown",
   "metadata": {},
   "source": [
    "## QUERYING MARKET DATA"
   ]
  },
  {
   "cell_type": "markdown",
   "metadata": {},
   "source": [
    "#### PUBLIC MARKET DATA"
   ]
  },
  {
   "cell_type": "code",
   "execution_count": 4,
   "metadata": {},
   "outputs": [
    {
     "name": "stdout",
     "output_type": "stream",
     "text": [
      "[[4.0165, 4.016, 4.015], [1187, 2500, 25000]]\n",
      "[[4.02, 4.021, 4.022], [4491, 5219, 2719]]\n"
     ]
    }
   ],
   "source": [
    "# Get first 3 best bids and asks with price and volume\n",
    "print(gtw.ob.top_bids(3))\n",
    "print(gtw.ob.top_asks(3))"
   ]
  },
  {
   "cell_type": "code",
   "execution_count": 5,
   "metadata": {},
   "outputs": [
    {
     "name": "stdout",
     "output_type": "stream",
     "text": [
      "[4.0165, 4.016, 4.015]\n",
      "[4.02, 4.021, 4.022]\n"
     ]
    }
   ],
   "source": [
    "# If you don't need the volume, it is faster to ask just for the prices\n",
    "print(gtw.ob.top_bidpx(3))\n",
    "print(gtw.ob.top_askpx(3))"
   ]
  },
  {
   "cell_type": "markdown",
   "metadata": {},
   "source": [
    "This is the time it takes for top_bids"
   ]
  },
  {
   "cell_type": "code",
   "execution_count": 6,
   "metadata": {},
   "outputs": [
    {
     "name": "stdout",
     "output_type": "stream",
     "text": [
      "2.62 µs ± 38.3 ns per loop (mean ± std. dev. of 7 runs, 100000 loops each)\n"
     ]
    }
   ],
   "source": [
    "%%timeit\n",
    "gtw.ob.top_bids(3)"
   ]
  },
  {
   "cell_type": "markdown",
   "metadata": {},
   "source": [
    "Just querying the price is faster since the volume accum in a price level\n",
    "is just calculated upon request to speed things up"
   ]
  },
  {
   "cell_type": "code",
   "execution_count": 7,
   "metadata": {},
   "outputs": [
    {
     "name": "stdout",
     "output_type": "stream",
     "text": [
      "1.66 µs ± 56.5 ns per loop (mean ± std. dev. of 7 runs, 1000000 loops each)\n"
     ]
    }
   ],
   "source": [
    "%%timeit\n",
    "gtw.ob.top_bidpx(3)"
   ]
  },
  {
   "cell_type": "markdown",
   "metadata": {},
   "source": [
    "The fastest access to market data is querying for the best bid and best ask only:"
   ]
  },
  {
   "cell_type": "code",
   "execution_count": 8,
   "metadata": {},
   "outputs": [
    {
     "name": "stdout",
     "output_type": "stream",
     "text": [
      "(4.0165, 1187)\n",
      "(4.02, 4491)\n"
     ]
    }
   ],
   "source": [
    "print(gtw.ob.bbid)\n",
    "print(gtw.ob.bask)"
   ]
  },
  {
   "cell_type": "code",
   "execution_count": 9,
   "metadata": {},
   "outputs": [
    {
     "name": "stdout",
     "output_type": "stream",
     "text": [
      "357 ns ± 4.59 ns per loop (mean ± std. dev. of 7 runs, 1000000 loops each)\n"
     ]
    }
   ],
   "source": [
    "%%timeit \n",
    "gtw.ob.bbid"
   ]
  },
  {
   "cell_type": "code",
   "execution_count": 10,
   "metadata": {},
   "outputs": [
    {
     "name": "stdout",
     "output_type": "stream",
     "text": [
      "[ 2485.   223.    50.   500.   750.  2481.   407.  2500.  1000.   355.\n",
      "  1050.  5700.   800.   400.  2050.  1609.   479.  1412.  1588.  2012.\n",
      "   750.  1038.   650.  1854.  1158.  1038.  1875.   650.  2593.   966.\n",
      "  3458.  3542.  3712.  1240.  1100. 10000.  6000.    76.   124.  1000.\n",
      "   500.  1000.  1000.  2000.  2486.   120.   475.  2490.   500.   330.\n",
      "  3700.  2000.  5000.   374.  2000.  3900.   300.    74.   373.  3200.\n",
      "  2000.   100.  3725.   250.  4000.  2000.  1000.  2487.  2000.  5000.\n",
      "  6000.  1000.    60.  2000.   250.    62.   500.  1100.  1030.  1000.\n",
      "   340.   140.   737.   200.  1000.  2000.  1000.  1500.  1200.   940.\n",
      "   745.   250.   497.   163.  1000.   112.   500.   495.  2000.  2200.\n",
      "   370.   100.    90.   500.  5200.  5200.  9997.   248.   852.  1176.\n",
      "   400.   500.   416.   240.  2072.  2500.   334.  1355.   852.    60.\n",
      "  3219. 12994.  5200.  6806.  2000.   700.   250.  1000.  1400.  1038.\n",
      "    45.    52.  1318.  2500.    93.  2719.   881.   273.   449.  2570.\n",
      "   559.  6925.  1075.   324.  3673.  3827.  3503.  1000.  2827.  2173.]\n",
      "\n",
      "[4.025  4.025  4.025  4.025  4.025  4.025  4.025  4.024  4.023  4.023\n",
      " 4.021  4.021  4.021  4.021  4.021  4.021  4.021  4.021  4.021  4.021\n",
      " 4.021  4.021  4.021  4.021  4.021  4.021  4.0215 4.021  4.021  4.021\n",
      " 4.0205 4.0205 4.0205 4.02   4.02   4.02   4.02   4.02   4.02   4.02\n",
      " 4.02   4.02   4.02   4.02   4.02   4.02   4.02   4.02   4.02   4.02\n",
      " 4.02   4.02   4.02   4.02   4.02   4.02   4.02   4.02   4.02   4.02\n",
      " 4.02   4.02   4.02   4.02   4.02   4.02   4.02   4.02   4.02   4.02\n",
      " 4.02   4.02   4.02   4.02   4.02   4.02   4.02   4.02   4.02   4.02\n",
      " 4.02   4.02   4.02   4.02   4.02   4.02   4.02   4.02   4.02   4.02\n",
      " 4.02   4.02   4.02   4.02   4.02   4.02   4.02   4.02   4.02   4.02\n",
      " 4.02   4.02   4.02   4.02   4.02   4.02   4.02   4.019  4.017  4.017\n",
      " 4.017  4.017  4.018  4.018  4.017  4.0175 4.0175 4.018  4.018  4.016\n",
      " 4.016  4.015  4.015  4.015  4.015  4.015  4.015  4.014  4.014  4.014\n",
      " 4.014  4.014  4.014  4.0155 4.017  4.02   4.02   4.02   4.02   4.02\n",
      " 4.02   4.02   4.02   4.02   4.02   4.0195 4.019  4.0195 4.0195 4.02  ]\n",
      "\n",
      "[Timestamp('2019-05-23 09:00:31.136000')\n",
      " Timestamp('2019-05-23 09:00:31.136000')\n",
      " Timestamp('2019-05-23 09:00:31.136000')\n",
      " Timestamp('2019-05-23 09:00:31.136000')\n",
      " Timestamp('2019-05-23 09:00:31.138000')\n",
      " Timestamp('2019-05-23 09:00:31.138000')\n",
      " Timestamp('2019-05-23 09:00:31.138000')\n",
      " Timestamp('2019-05-23 09:00:31.138000')\n",
      " Timestamp('2019-05-23 09:00:31.139000')\n",
      " Timestamp('2019-05-23 09:00:31.139000')\n",
      " Timestamp('2019-05-23 09:00:32.883000')\n",
      " Timestamp('2019-05-23 09:00:33.086000')\n",
      " Timestamp('2019-05-23 09:00:33.271000')\n",
      " Timestamp('2019-05-23 09:00:34.863000')\n",
      " Timestamp('2019-05-23 09:00:35.032000')\n",
      " Timestamp('2019-05-23 09:00:35.033000')\n",
      " Timestamp('2019-05-23 09:00:35.036000')\n",
      " Timestamp('2019-05-23 09:00:35.272000')\n",
      " Timestamp('2019-05-23 09:00:35.272000')\n",
      " Timestamp('2019-05-23 09:00:39.265000')\n",
      " Timestamp('2019-05-23 09:00:39.265000')\n",
      " Timestamp('2019-05-23 09:00:39.265000')\n",
      " Timestamp('2019-05-23 09:00:44.273000')\n",
      " Timestamp('2019-05-23 09:00:44.274000')\n",
      " Timestamp('2019-05-23 09:00:44.274000')\n",
      " Timestamp('2019-05-23 09:00:44.274000')\n",
      " Timestamp('2019-05-23 09:00:50.140000')\n",
      " Timestamp('2019-05-23 09:00:50.146000')\n",
      " Timestamp('2019-05-23 09:00:50.146000')\n",
      " Timestamp('2019-05-23 09:00:50.147000')\n",
      " Timestamp('2019-05-23 09:00:50.158000')\n",
      " Timestamp('2019-05-23 09:00:50.158000')\n",
      " Timestamp('2019-05-23 09:00:59.120000')\n",
      " Timestamp('2019-05-23 09:00:59.161000')\n",
      " Timestamp('2019-05-23 09:00:59.161000')\n",
      " Timestamp('2019-05-23 09:00:59.161000')\n",
      " Timestamp('2019-05-23 09:00:59.161000')\n",
      " Timestamp('2019-05-23 09:00:59.162000')\n",
      " Timestamp('2019-05-23 09:00:59.210000')\n",
      " Timestamp('2019-05-23 09:00:59.210000')\n",
      " Timestamp('2019-05-23 09:00:59.211000')\n",
      " Timestamp('2019-05-23 09:00:59.211000')\n",
      " Timestamp('2019-05-23 09:00:59.211000')\n",
      " Timestamp('2019-05-23 09:00:59.211000')\n",
      " Timestamp('2019-05-23 09:00:59.211000')\n",
      " Timestamp('2019-05-23 09:00:59.211000')\n",
      " Timestamp('2019-05-23 09:00:59.329000')\n",
      " Timestamp('2019-05-23 09:00:59.329000')\n",
      " Timestamp('2019-05-23 09:00:59.329000')\n",
      " Timestamp('2019-05-23 09:00:59.329000')\n",
      " Timestamp('2019-05-23 09:00:59.329000')\n",
      " Timestamp('2019-05-23 09:00:59.329000')\n",
      " Timestamp('2019-05-23 09:00:59.332000')\n",
      " Timestamp('2019-05-23 09:00:59.332000')\n",
      " Timestamp('2019-05-23 09:00:59.332000')\n",
      " Timestamp('2019-05-23 09:00:59.332000')\n",
      " Timestamp('2019-05-23 09:00:59.332000')\n",
      " Timestamp('2019-05-23 09:00:59.332000')\n",
      " Timestamp('2019-05-23 09:00:59.332000')\n",
      " Timestamp('2019-05-23 09:00:59.332000')\n",
      " Timestamp('2019-05-23 09:00:59.332000')\n",
      " Timestamp('2019-05-23 09:00:59.332000')\n",
      " Timestamp('2019-05-23 09:00:59.332000')\n",
      " Timestamp('2019-05-23 09:00:59.332000')\n",
      " Timestamp('2019-05-23 09:00:59.332000')\n",
      " Timestamp('2019-05-23 09:00:59.332000')\n",
      " Timestamp('2019-05-23 09:00:59.332000')\n",
      " Timestamp('2019-05-23 09:00:59.332000')\n",
      " Timestamp('2019-05-23 09:00:59.332000')\n",
      " Timestamp('2019-05-23 09:00:59.333000')\n",
      " Timestamp('2019-05-23 09:00:59.333000')\n",
      " Timestamp('2019-05-23 09:00:59.333000')\n",
      " Timestamp('2019-05-23 09:00:59.333000')\n",
      " Timestamp('2019-05-23 09:00:59.333000')\n",
      " Timestamp('2019-05-23 09:00:59.333000')\n",
      " Timestamp('2019-05-23 09:00:59.333000')\n",
      " Timestamp('2019-05-23 09:00:59.333000')\n",
      " Timestamp('2019-05-23 09:00:59.333000')\n",
      " Timestamp('2019-05-23 09:00:59.333000')\n",
      " Timestamp('2019-05-23 09:00:59.333000')\n",
      " Timestamp('2019-05-23 09:00:59.333000')\n",
      " Timestamp('2019-05-23 09:00:59.333000')\n",
      " Timestamp('2019-05-23 09:00:59.334000')\n",
      " Timestamp('2019-05-23 09:00:59.334000')\n",
      " Timestamp('2019-05-23 09:00:59.334000')\n",
      " Timestamp('2019-05-23 09:00:59.334000')\n",
      " Timestamp('2019-05-23 09:00:59.334000')\n",
      " Timestamp('2019-05-23 09:00:59.334000')\n",
      " Timestamp('2019-05-23 09:00:59.334000')\n",
      " Timestamp('2019-05-23 09:00:59.334000')\n",
      " Timestamp('2019-05-23 09:00:59.334000')\n",
      " Timestamp('2019-05-23 09:00:59.334000')\n",
      " Timestamp('2019-05-23 09:00:59.334000')\n",
      " Timestamp('2019-05-23 09:00:59.336000')\n",
      " Timestamp('2019-05-23 09:00:59.336000')\n",
      " Timestamp('2019-05-23 09:00:59.336000')\n",
      " Timestamp('2019-05-23 09:00:59.336000')\n",
      " Timestamp('2019-05-23 09:00:59.336000')\n",
      " Timestamp('2019-05-23 09:00:59.336000')\n",
      " Timestamp('2019-05-23 09:00:59.336000')\n",
      " Timestamp('2019-05-23 09:00:59.336000')\n",
      " Timestamp('2019-05-23 09:00:59.336000')\n",
      " Timestamp('2019-05-23 09:00:59.336000')\n",
      " Timestamp('2019-05-23 09:00:59.336000')\n",
      " Timestamp('2019-05-23 09:00:59.336000')\n",
      " Timestamp('2019-05-23 09:00:59.336000')\n",
      " Timestamp('2019-05-23 09:00:59.336000')\n",
      " Timestamp('2019-05-23 09:00:59.423000')\n",
      " Timestamp('2019-05-23 09:00:59.424000')\n",
      " Timestamp('2019-05-23 09:00:59.437000')\n",
      " Timestamp('2019-05-23 09:00:59.625000')\n",
      " Timestamp('2019-05-23 09:00:59.629000')\n",
      " Timestamp('2019-05-23 09:01:03.119000')\n",
      " Timestamp('2019-05-23 09:01:03.119000')\n",
      " Timestamp('2019-05-23 09:01:04.084000')\n",
      " Timestamp('2019-05-23 09:01:05.021000')\n",
      " Timestamp('2019-05-23 09:01:05.021000')\n",
      " Timestamp('2019-05-23 09:01:05.021000')\n",
      " Timestamp('2019-05-23 09:01:05.021000')\n",
      " Timestamp('2019-05-23 09:01:08.940000')\n",
      " Timestamp('2019-05-23 09:01:08.940000')\n",
      " Timestamp('2019-05-23 09:01:08.941000')\n",
      " Timestamp('2019-05-23 09:01:08.941000')\n",
      " Timestamp('2019-05-23 09:01:08.942000')\n",
      " Timestamp('2019-05-23 09:01:08.942000')\n",
      " Timestamp('2019-05-23 09:01:08.942000')\n",
      " Timestamp('2019-05-23 09:01:08.942000')\n",
      " Timestamp('2019-05-23 09:01:09.258000')\n",
      " Timestamp('2019-05-23 09:01:09.297000')\n",
      " Timestamp('2019-05-23 09:01:09.336000')\n",
      " Timestamp('2019-05-23 09:01:09.336000')\n",
      " Timestamp('2019-05-23 09:01:09.344000')\n",
      " Timestamp('2019-05-23 09:01:09.503000')\n",
      " Timestamp('2019-05-23 09:01:11.023000')\n",
      " Timestamp('2019-05-23 09:01:11.023000')\n",
      " Timestamp('2019-05-23 09:01:26.675000')\n",
      " Timestamp('2019-05-23 09:01:26.677000')\n",
      " Timestamp('2019-05-23 09:01:26.703000')\n",
      " Timestamp('2019-05-23 09:01:26.775000')\n",
      " Timestamp('2019-05-23 09:01:26.783000')\n",
      " Timestamp('2019-05-23 09:01:28.133000')\n",
      " Timestamp('2019-05-23 09:01:28.133000')\n",
      " Timestamp('2019-05-23 09:01:28.134000')\n",
      " Timestamp('2019-05-23 09:01:28.189000')\n",
      " Timestamp('2019-05-23 09:01:28.189000')\n",
      " Timestamp('2019-05-23 09:01:28.191000')\n",
      " Timestamp('2019-05-23 09:01:28.221000')\n",
      " Timestamp('2019-05-23 09:01:28.277000')\n",
      " Timestamp('2019-05-23 09:01:28.378000')\n",
      " Timestamp('2019-05-23 09:01:28.378000')]\n"
     ]
    }
   ],
   "source": [
    "# Everytime there is a matching this updates\n",
    "# Market trades vol\n",
    "print(gtw.ob.trades_vol)\n",
    "print('')\n",
    "# Market trades prices \n",
    "print(gtw.ob.trades_px)\n",
    "print('')\n",
    "# Market trades timestamp\n",
    "print(gtw.ob.trades_time)\n"
   ]
  },
  {
   "cell_type": "code",
   "execution_count": 11,
   "metadata": {},
   "outputs": [
    {
     "data": {
      "text/plain": [
       "258935"
      ]
     },
     "execution_count": 11,
     "metadata": {},
     "output_type": "execute_result"
    }
   ],
   "source": [
    "# Check orderbook cummulative traded volume\n",
    "gtw.ob.cumvol"
   ]
  },
  {
   "cell_type": "markdown",
   "metadata": {},
   "source": [
    "#### PRIVATE DATA FEED"
   ]
  },
  {
   "cell_type": "code",
   "execution_count": 12,
   "metadata": {},
   "outputs": [
    {
     "name": "stdout",
     "output_type": "stream",
     "text": [
      "[]\n",
      "\n",
      "[]\n",
      "\n",
      "[]\n"
     ]
    }
   ],
   "source": [
    "# Market trades vol\n",
    "print(gtw.ob.my_trades_vol)\n",
    "print('')\n",
    "# Market trades prices \n",
    "print(gtw.ob.my_trades_px)\n",
    "print('')\n",
    "# Market trades timestamp\n",
    "print(gtw.ob.my_trades_time)"
   ]
  },
  {
   "cell_type": "code",
   "execution_count": 13,
   "metadata": {},
   "outputs": [
    {
     "data": {
      "text/plain": [
       "0"
      ]
     },
     "execution_count": 13,
     "metadata": {},
     "output_type": "execute_result"
    }
   ],
   "source": [
    "# Check orderbook cummulative traded volume\n",
    "gtw.ob.my_cumvol"
   ]
  },
  {
   "cell_type": "markdown",
   "metadata": {},
   "source": [
    "## LATENCY SIMULATION\n",
    "In this section we are going to send our own orders to the Orderbook using Gateway methods allowing it to simulate the effect of latency in our orders when reaching the market"
   ]
  },
  {
   "cell_type": "code",
   "execution_count": 14,
   "metadata": {},
   "outputs": [
    {
     "name": "stdout",
     "output_type": "stream",
     "text": [
      "We just saw ask price:4.02 that happened at time 2019-05-23 09:01:31.127000\n"
     ]
    }
   ],
   "source": [
    "# Check best ask price to set as our target price\n",
    "target_price = gtw.ob.bask[0]\n",
    "mkt_time_when_target_px_showed = gtw.ob_time\n",
    "print(f'We just saw ask price:{target_price}'  \\\n",
    "        f' that happened at time {mkt_time_when_target_px_showed}')\n",
    "\n",
    "# Send an aggressive buy order against this ask price for inmediate execution\n",
    "# We are actually queuing it with gtw.latency added \n",
    "my_uid = gtw.queue_my_new(is_buy=True,\n",
    "                          qty=10,\n",
    "                          price=target_price)\n"
   ]
  },
  {
   "cell_type": "code",
   "execution_count": 15,
   "metadata": {},
   "outputs": [
    {
     "name": "stdout",
     "output_type": "stream",
     "text": [
      "The order with uid:-1 did not arrive to the orderbook\n"
     ]
    }
   ],
   "source": [
    "# Check order status.\n",
    "# NOTE: time has not moved yet. Therefore,\n",
    "# my order is still on the fly, it did not arrive to the orderbook\n",
    "# If we check its status in the orderbook we will get a KeyError\n",
    "try:\n",
    "    gtw.ord_status(my_uid)\n",
    "except KeyError:\n",
    "    print(f'The order with uid:{my_uid} did not arrive to the orderbook')\n"
   ]
  },
  {
   "cell_type": "code",
   "execution_count": 16,
   "metadata": {},
   "outputs": [
    {
     "name": "stdout",
     "output_type": "stream",
     "text": [
      "{'uid': -1, 'is_buy': True, 'qty': 10, 'cumqty': 10, 'leavesqty': 0, 'price': 4.02, 'timestamp': Timestamp('2019-05-23 09:01:31.147000'), 'active': False}\n"
     ]
    }
   ],
   "source": [
    "# Advance time 1 second to give the order time to arrive\n",
    "gtw.move_n_seconds(1)\n",
    "\n",
    "# Check status again. \n",
    "# I was lucky, the price I targeted did not disappear while my order was\n",
    "# and flying and we got it filled (leavesqty==0) => HIT RATE 100%\n",
    "# Since it is filled, it is not active anymore (active==False)\n",
    "try:\n",
    "    print(gtw.ord_status(my_uid))\n",
    "except KeyError:\n",
    "    print(f'The order with uid:{my_uid} did not arrive to the orderbook')\n"
   ]
  },
  {
   "cell_type": "code",
   "execution_count": 17,
   "metadata": {},
   "outputs": [
    {
     "name": "stdout",
     "output_type": "stream",
     "text": [
      "[10.]\n",
      "[4.02]\n",
      "[Timestamp('2019-05-23 09:01:31.147000')]\n",
      "\n",
      "Our execution was done 20 ms after the price first showed\n",
      "0 days 00:00:00.020000\n"
     ]
    }
   ],
   "source": [
    "# Check my trades\n",
    "print(gtw.ob.my_trades_vol)\n",
    "print(gtw.ob.my_trades_px)\n",
    "\n",
    "# As we can see, our execution happened exactly 20 miliseconds after the\n",
    "# ask price we targeted appeared in the first place. Just as expected. \n",
    "print(gtw.ob.my_trades_time)\n",
    "print('')\n",
    "print('Our execution was done 20 ms after the price first showed')\n",
    "print(gtw.ob.my_trades_time[0]-mkt_time_when_target_px_showed)\n"
   ]
  },
  {
   "cell_type": "markdown",
   "metadata": {},
   "source": [
    "### USING RELATIVE PRICING - PEGGING\n",
    "Getting the correct tick size in post MiFID II european cash equity markets is a bit tricky. We provide helper functions to allow you to move up or down a number of ticks without have to worry about the propper ticksize rounding in edge cases. "
   ]
  },
  {
   "cell_type": "code",
   "execution_count": 18,
   "metadata": {},
   "outputs": [
    {
     "name": "stdout",
     "output_type": "stream",
     "text": [
      "    vbid    pbid    pask   vask\n",
      "0   1187  4.0165  4.0200    754\n",
      "1   2500  4.0160  4.0210   2719\n",
      "2  25000  4.0150  4.0220   2719\n",
      "3   5219  4.0135  4.0230   5219\n",
      "4    500  4.0130  4.0240   4691\n",
      "5   2719  4.0125  4.0250   5219\n",
      "6   8300  4.0120  4.0260   2666\n",
      "7   5219  4.0115  4.0265    253\n",
      "8  21189  4.0110  4.0270  12666\n",
      "9   8214  4.0105  4.0275   5491\n"
     ]
    }
   ],
   "source": [
    "# Current orderbook orderbook. The spread is wide, lets close it.\n",
    "print(gtw.ob)"
   ]
  },
  {
   "cell_type": "code",
   "execution_count": 19,
   "metadata": {},
   "outputs": [],
   "source": [
    "# Now we are goint to send an order that improves the best bid\n",
    "# by one tick, closing the orderbook bid-ask spread in one tick\n",
    "bbid_px = gtw.ob.bbid[0]\n",
    "# this helper function gives you a new price from a ref price and a number of ticks shift\n",
    "imp_bbid = gtw.ob.get_new_price(price=bbid_px, n_moves=1)\n",
    "# we send our order to the Orderbook through the Gateway\n",
    "my_uid = gtw.queue_my_new(is_buy=True,\n",
    "                          qty=7,\n",
    "                          price=imp_bbid)"
   ]
  },
  {
   "cell_type": "code",
   "execution_count": 20,
   "metadata": {},
   "outputs": [],
   "source": [
    "# Lets move gtw.latency microseconds in time to let our order arrive\n",
    "gtw.move_n_seconds(gtw.latency/1e6+1)"
   ]
  },
  {
   "cell_type": "code",
   "execution_count": 21,
   "metadata": {},
   "outputs": [
    {
     "data": {
      "text/plain": [
       "{'uid': -2,\n",
       " 'is_buy': True,\n",
       " 'qty': 7,\n",
       " 'cumqty': 0,\n",
       " 'leavesqty': 7,\n",
       " 'price': 4.017,\n",
       " 'timestamp': Timestamp('2019-05-23 09:01:32.147000'),\n",
       " 'active': True}"
      ]
     },
     "execution_count": 21,
     "metadata": {},
     "output_type": "execute_result"
    }
   ],
   "source": [
    "# Lets check our order status\n",
    "gtw.ord_status(my_uid)"
   ]
  },
  {
   "cell_type": "code",
   "execution_count": 22,
   "metadata": {},
   "outputs": [
    {
     "name": "stdout",
     "output_type": "stream",
     "text": [
      "(4.017, 7)\n",
      "\n",
      "    vbid    pbid    pask   vask\n",
      "0      7  4.0170  4.0200   5423\n",
      "1   1187  4.0165  4.0220   2719\n",
      "2   2500  4.0160  4.0230   5219\n",
      "3  25000  4.0150  4.0240   4691\n",
      "4   5219  4.0135  4.0250   5219\n",
      "5    500  4.0130  4.0260   2666\n",
      "6   2719  4.0125  4.0265    253\n",
      "7   8300  4.0120  4.0270  12666\n",
      "8  15219  4.0115  4.0275   4000\n",
      "9  21189  4.0110  4.0280   2666\n"
     ]
    }
   ],
   "source": [
    "# Great, its already active and setting the new best bid\n",
    "print(gtw.ob.bbid)\n",
    "print()\n",
    "# Lets see the new orderbook\n",
    "print(gtw.ob)\n"
   ]
  },
  {
   "cell_type": "code",
   "execution_count": 23,
   "metadata": {},
   "outputs": [
    {
     "name": "stdout",
     "output_type": "stream",
     "text": [
      "    vbid    pbid    pask   vask\n",
      "0   1187  4.0165  4.0200   5423\n",
      "1   2500  4.0160  4.0210   2719\n",
      "2  25000  4.0150  4.0220   2719\n",
      "3   5219  4.0135  4.0230   5219\n",
      "4    500  4.0130  4.0240   4691\n",
      "5   2719  4.0125  4.0250   5219\n",
      "6   8300  4.0120  4.0260   2666\n",
      "7  15219  4.0115  4.0265    253\n",
      "8  21189  4.0110  4.0270  12666\n",
      "9   8214  4.0105  4.0275   4000\n"
     ]
    }
   ],
   "source": [
    "# Allright, I was just bluffing, I do not want to buy => lets cancel it\n",
    "gtw.queue_my_cancel(my_uid)\n",
    "\n",
    "# Move forward\n",
    "gtw.move_n_seconds(gtw.latency/1e6+1)\n",
    "\n",
    "# Lets check our order status\n",
    "gtw.ord_status(my_uid)\n",
    "\n",
    "# Lets check the book now\n",
    "print(gtw.ob)"
   ]
  },
  {
   "cell_type": "code",
   "execution_count": null,
   "metadata": {},
   "outputs": [],
   "source": []
  }
 ],
 "metadata": {
  "kernelspec": {
   "display_name": "'Python Interactive'",
   "language": "python",
   "name": "57d86bdd-95ca-4938-80b7-d791e8ecf379"
  },
  "language_info": {
   "codemirror_mode": {
    "name": "ipython",
    "version": 3
   },
   "file_extension": ".py",
   "mimetype": "text/x-python",
   "name": "python",
   "nbconvert_exporter": "python",
   "pygments_lexer": "ipython3",
   "version": "3.7.3"
  }
 },
 "nbformat": 4,
 "nbformat_minor": 2
}
