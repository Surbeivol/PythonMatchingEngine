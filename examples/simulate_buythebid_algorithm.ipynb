{
 "cells": [
  {
   "cell_type": "code",
   "execution_count": 1,
   "metadata": {},
   "outputs": [],
   "source": [
    "import sys\n",
    "import os\n",
    "import time\n",
    "import numpy as np\n",
    "from marketsimulator.gateway import Gateway\n",
    "from examples.algorithms import BuyTheBid, Pegged\n",
    "import datetime"
   ]
  },
  {
   "cell_type": "markdown",
   "metadata": {},
   "source": [
    "### TEST BUY THE BID ALGORITHM\n",
    "We are going to simulate a simple Buy The Bid algorithm. This algorithm just places orders at the best bid and replenishes them when they are filled or modify them when they are no longer in the best bid of the market.\n",
    "\n",
    "We encapsulate the simulation inside a function to be able to run it with different latencies to check the effect of it in our total traded volume and price\n",
    "\n",
    "Each simulation will process each of the more than 270k orders of Santander on that trading session, plus the effect of all the orders that our algorithm introduces in the market. Luckily, its quite fast, so we can run the whole simulation in a few seconds."
   ]
  },
  {
   "cell_type": "code",
   "execution_count": 2,
   "metadata": {},
   "outputs": [],
   "source": [
    "def sim_algo_with_latency(latency):\n",
    "    gtw_kwargs = {\n",
    "        'date': datetime.date(2019,5,23),\n",
    "        'ticker': 'san',\n",
    "        'start_h': 9,\n",
    "        'end_h': 17.5,\n",
    "        'latency': latency,\n",
    "    }\n",
    "\n",
    "    # Init the Gateway and its Orderbook\n",
    "    gtw = Gateway(**gtw_kwargs)\n",
    "    # Instaciate the algorithm\n",
    "    btb = BuyTheBid(10_00_000, 100)\n",
    "    \n",
    "    # While the algo is not done (has not traded all the volume)\n",
    "    # and the simulation end time is not reached\n",
    "    while (not btb.done) and (gtw.ob_time < gtw.end_time):            \n",
    "        # Eval the algo with every change in the market\n",
    "        btb.eval_and_act(gtw)\n",
    "        # Move the market one tick, that is, introduce the next order (historical or ours)\n",
    "        # and return back\n",
    "        gtw.tick()    \n",
    "        \n",
    "        # We return the total traded volume achieved by the algo and the VWAP obtained\n",
    "    return [latency, gtw.ob.my_cumvol, gtw.ob.my_vwap]\n"
   ]
  },
  {
   "cell_type": "code",
   "execution_count": 3,
   "metadata": {},
   "outputs": [],
   "source": [
    "results=[]\n",
    "for latency in [10**x for x in range(8)]:\n",
    "    results.append(sim_algo_with_latency(latency=latency))\n",
    "    "
   ]
  },
  {
   "cell_type": "code",
   "execution_count": 4,
   "metadata": {},
   "outputs": [
    {
     "name": "stdout",
     "output_type": "stream",
     "text": [
      "    latency  traded_vol      vwap\n",
      "0         1      380288  4.021676\n",
      "1        10      380288  4.021676\n",
      "2       100      380288  4.021676\n",
      "3      1000      366945  4.021825\n",
      "4     10000      326673  4.021844\n",
      "5    100000      275226  4.021876\n",
      "6   1000000      230076  4.021909\n",
      "7  10000000      114747  4.022236\n"
     ]
    }
   ],
   "source": [
    "import pandas as pd\n",
    "df_res = pd.DataFrame(results,columns=['latency', 'traded_vol', 'vwap'])\n",
    "print(df_res)"
   ]
  },
  {
   "cell_type": "code",
   "execution_count": 5,
   "metadata": {},
   "outputs": [
    {
     "data": {
      "text/plain": [
       "<Figure size 2000x800 with 1 Axes>"
      ]
     },
     "metadata": {},
     "output_type": "display_data"
    }
   ],
   "source": [
    "import matplotlib.pyplot as plt\n",
    "plt.figure(figsize=(20, 8))\n",
    "plt.title('Traded Volume by algo total latency (log scale)')\n",
    "plt.semilogx(df_res.latency, df_res.traded_vol)\n",
    "plt.show()"
   ]
  },
  {
   "cell_type": "markdown",
   "metadata": {},
   "source": [
    "We can observe that up to 100 microseconds, there is no effect on latency. Lets zoom in the range between 100 micros and 10 miliseconds to see the effect. This will be 100 simulations of a full trading session, it will take around 5 minutes to complete."
   ]
  },
  {
   "cell_type": "code",
   "execution_count": 6,
   "metadata": {},
   "outputs": [],
   "source": [
    "results=[]\n",
    "for latency in np.arange(100, 10_000, 100):\n",
    "    results.append(sim_algo_with_latency(latency=int(latency)))"
   ]
  },
  {
   "cell_type": "code",
   "execution_count": 7,
   "metadata": {},
   "outputs": [],
   "source": [
    "import pandas as pd\n",
    "df_res = pd.DataFrame(results,columns=['latency', 'traded_vol', 'vwap'])"
   ]
  },
  {
   "cell_type": "code",
   "execution_count": 8,
   "metadata": {},
   "outputs": [
    {
     "data": {
      "image/png": "[encoded data removed]",
      "text/plain": [
       "<Figure size 1440x576 with 1 Axes>"
      ]
     },
     "metadata": {
      "needs_background": "light"
     },
     "output_type": "display_data"
    }
   ],
   "source": [
    "import matplotlib.pyplot as plt\n",
    "plt.figure(figsize=(20, 8))\n",
    "plt.title('Traded Volume by algo total latency (log scale)')\n",
    "plt.semilogx(df_res.latency, df_res.traded_vol)\n",
    "plt.show()"
   ]
  },
  {
   "cell_type": "markdown",
   "metadata": {},
   "source": [
    "This is very interesting!!"
   ]
  },
  {
   "cell_type": "code",
   "execution_count": null,
   "metadata": {},
   "outputs": [],
   "source": []
  }
 ],
 "metadata": {
  "kernelspec": {
   "display_name": "'Python Interactive'",
   "language": "python",
   "name": "57d86bdd-95ca-4938-80b7-d791e8ecf379"
  },
  "language_info": {
   "codemirror_mode": {
    "name": "ipython",
    "version": 3
   },
   "file_extension": ".py",
   "mimetype": "text/x-python",
   "name": "python",
   "nbconvert_exporter": "python",
   "pygments_lexer": "ipython3",
   "version": "3.7.3"
  }
 },
 "nbformat": 4,
 "nbformat_minor": 2
}
