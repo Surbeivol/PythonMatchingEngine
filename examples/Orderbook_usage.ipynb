{
 "cells": [
  {
   "cell_type": "markdown",
   "metadata": {},
   "source": [
    "# MARKET USAGE EXAMPLES\n",
    "If you want to access the Orderbook directly and not through the Market Gateway you can.\n",
    "\n",
    "Even if you do access the Orderbook through the Gateway, you still can access some methods and properties of the Orderbook contained in the Gateway class.\n",
    "\n",
    "Here are some examples of what you can do"
   ]
  },
  {
   "cell_type": "code",
   "execution_count": 1,
   "metadata": {},
   "outputs": [],
   "source": [
    "from marketsimulator.orderbook import Orderbook\n",
    "\n",
    "# initialize an empty orderbook book for Santander shares (san)\n",
    "ob = Orderbook(ticker='san')"
   ]
  },
  {
   "cell_type": "markdown",
   "metadata": {},
   "source": [
    "Getting the correct tick size in post MiFID II european cash equity markets is a bit tricky. We provide helper functions to allow you to move up or down a number of ticks without have to worry about the propper ticksize rounding in edge cases. "
   ]
  },
  {
   "cell_type": "code",
   "execution_count": 2,
   "metadata": {},
   "outputs": [
    {
     "data": {
      "text/plain": [
       "9.999"
      ]
     },
     "execution_count": 2,
     "metadata": {},
     "output_type": "execute_result"
    }
   ],
   "source": [
    "# Not all prices are allowed. Check MiFID II tick-size regime\n",
    "# Move n ticks from one price\n",
    "ob.get_new_price(price=10, n_moves=1)\n",
    "ob.get_new_price(price=10, n_moves=-1)"
   ]
  },
  {
   "cell_type": "code",
   "execution_count": 3,
   "metadata": {},
   "outputs": [],
   "source": [
    "# fill with different passive orders\n",
    "ob.send(uid=-1, is_buy=True, qty=100, price=10.)\n",
    "ob.send(uid=-2, is_buy=True, qty=80, price=10.)\n",
    "ob.send(uid=-3, is_buy=True, qty=90, price=10.)\n",
    "ob.send(uid=-4, is_buy=True, qty=70, price=ob.get_new_price(10., -1))\n",
    "ob.send(uid=-5, is_buy=False, qty=60, price=ob.get_new_price(10., 2))\n",
    "ob.send(uid=-6, is_buy=False, qty=30, price=ob.get_new_price(10., 1))\n",
    "ob.send(uid=-7, is_buy=False, qty=50, price=ob.get_new_price(10., 1))\n"
   ]
  },
  {
   "cell_type": "code",
   "execution_count": 4,
   "metadata": {},
   "outputs": [
    {
     "name": "stdout",
     "output_type": "stream",
     "text": [
      "    vbid    pbid    pask  vask\n",
      "0  270.0  10.000  10.002  80.0\n",
      "1   70.0   9.999  10.004  60.0\n",
      "2    NaN     NaN     NaN   NaN\n",
      "3    NaN     NaN     NaN   NaN\n",
      "4    NaN     NaN     NaN   NaN\n",
      "5    NaN     NaN     NaN   NaN\n",
      "6    NaN     NaN     NaN   NaN\n",
      "7    NaN     NaN     NaN   NaN\n",
      "8    NaN     NaN     NaN   NaN\n",
      "9    NaN     NaN     NaN   NaN\n"
     ]
    }
   ],
   "source": [
    "# Show current orderbook\n",
    "print(ob)"
   ]
  },
  {
   "cell_type": "code",
   "execution_count": 5,
   "metadata": {},
   "outputs": [
    {
     "data": {
      "text/plain": [
       "{10.004: <marketsimulator.orderbook.PriceLevel at 0x7f5b5f344a90>,\n",
       " 10.002: <marketsimulator.orderbook.PriceLevel at 0x7f5b5f344c88>}"
      ]
     },
     "execution_count": 5,
     "metadata": {},
     "output_type": "execute_result"
    }
   ],
   "source": [
    "# Show book dictionary of LevelPrices \n",
    "ob._bids.book\n",
    "ob._asks.book"
   ]
  },
  {
   "cell_type": "code",
   "execution_count": 6,
   "metadata": {},
   "outputs": [
    {
     "data": {
      "text/plain": [
       "(10.002, 80)"
      ]
     },
     "execution_count": 6,
     "metadata": {},
     "output_type": "execute_result"
    }
   ],
   "source": [
    "# Get best bid\n",
    "ob.bbid\n",
    "# Get best ask\n",
    "ob.bask"
   ]
  },
  {
   "cell_type": "code",
   "execution_count": 7,
   "metadata": {},
   "outputs": [],
   "source": [
    "# This order will sweep all ask positions and lie resting in the bid\n",
    "# setting a new best bid and leaving the Asks empty\n",
    "agg_price = ob.get_new_price(10., 4)\n",
    "ob.send(uid=-8, is_buy=True, qty=200, price = agg_price)\n"
   ]
  },
  {
   "cell_type": "code",
   "execution_count": 8,
   "metadata": {},
   "outputs": [
    {
     "name": "stdout",
     "output_type": "stream",
     "text": [
      "    vbid    pbid  pask  vask\n",
      "0   60.0  10.008   NaN   NaN\n",
      "1  270.0  10.000   NaN   NaN\n",
      "2   70.0   9.999   NaN   NaN\n",
      "3    NaN     NaN   NaN   NaN\n",
      "4    NaN     NaN   NaN   NaN\n",
      "5    NaN     NaN   NaN   NaN\n",
      "6    NaN     NaN   NaN   NaN\n",
      "7    NaN     NaN   NaN   NaN\n",
      "8    NaN     NaN   NaN   NaN\n",
      "9    NaN     NaN   NaN   NaN\n",
      "(10.008, 60)\n",
      "None\n"
     ]
    }
   ],
   "source": [
    "print(ob)\n",
    "print(ob.bbid)\n",
    "print(ob.bask)\n"
   ]
  },
  {
   "cell_type": "code",
   "execution_count": 9,
   "metadata": {},
   "outputs": [
    {
     "name": "stdout",
     "output_type": "stream",
     "text": [
      "[10.002 10.002 10.004]\n",
      "[30. 50. 60.]\n",
      "[-6. -7. -5.]\n"
     ]
    }
   ],
   "source": [
    "# Check that the trades happened in the oder corresponding \n",
    "# to their price-time priority\n",
    "print(ob.trades_px)\n",
    "print(ob.trades_vol)\n",
    "print(ob.trades['pas_ord'][:3])"
   ]
  }
 ],
 "metadata": {
  "kernelspec": {
   "display_name": "'Python Interactive'",
   "language": "python",
   "name": "57d86bdd-95ca-4938-80b7-d791e8ecf379"
  },
  "language_info": {
   "codemirror_mode": {
    "name": "ipython",
    "version": 3
   },
   "file_extension": ".py",
   "mimetype": "text/x-python",
   "name": "python",
   "nbconvert_exporter": "python",
   "pygments_lexer": "ipython3",
   "version": "3.7.3"
  }
 },
 "nbformat": 4,
 "nbformat_minor": 2
}
